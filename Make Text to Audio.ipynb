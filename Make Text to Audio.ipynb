{
 "cells": [
  {
   "cell_type": "code",
   "execution_count": 4,
   "id": "42f0ddcd",
   "metadata": {},
   "outputs": [],
   "source": [
    "import os\n",
    "import pandas as pd\n",
    "import numpy as np \n",
    "import seaborn as sns\n"
   ]
  },
  {
   "cell_type": "code",
   "execution_count": 5,
   "id": "0224a61f",
   "metadata": {},
   "outputs": [
    {
     "data": {
      "text/plain": [
       "'C:\\\\Users\\\\maani\\\\Downloads\\\\Python Project\\\\Make Text to Audio'"
      ]
     },
     "execution_count": 5,
     "metadata": {},
     "output_type": "execute_result"
    }
   ],
   "source": [
    "os.getcwd()"
   ]
  },
  {
   "cell_type": "code",
   "execution_count": 6,
   "id": "a07ee7f8",
   "metadata": {},
   "outputs": [
    {
     "name": "stdout",
     "output_type": "stream",
     "text": [
      "Collecting gTTS\n",
      "  Downloading gTTS-2.2.4-py3-none-any.whl (26 kB)\n",
      "Requirement already satisfied: requests in d:\\anaconda3\\lib\\site-packages (from gTTS) (2.26.0)\n",
      "Requirement already satisfied: click in d:\\anaconda3\\lib\\site-packages (from gTTS) (8.0.3)\n",
      "Requirement already satisfied: six in d:\\anaconda3\\lib\\site-packages (from gTTS) (1.16.0)\n",
      "Requirement already satisfied: colorama in d:\\anaconda3\\lib\\site-packages (from click->gTTS) (0.4.4)\n",
      "Requirement already satisfied: certifi>=2017.4.17 in d:\\anaconda3\\lib\\site-packages (from requests->gTTS) (2021.10.8)\n",
      "Requirement already satisfied: urllib3<1.27,>=1.21.1 in d:\\anaconda3\\lib\\site-packages (from requests->gTTS) (1.26.7)\n",
      "Requirement already satisfied: charset-normalizer~=2.0.0 in d:\\anaconda3\\lib\\site-packages (from requests->gTTS) (2.0.4)\n",
      "Requirement already satisfied: idna<4,>=2.5 in d:\\anaconda3\\lib\\site-packages (from requests->gTTS) (3.2)\n",
      "Installing collected packages: gTTS\n",
      "Successfully installed gTTS-2.2.4\n"
     ]
    }
   ],
   "source": [
    "!pip install gTTS"
   ]
  },
  {
   "cell_type": "code",
   "execution_count": 7,
   "id": "0c600274",
   "metadata": {},
   "outputs": [],
   "source": [
    "from gtts import gTTS"
   ]
  },
  {
   "cell_type": "code",
   "execution_count": 8,
   "id": "9bb7054e",
   "metadata": {},
   "outputs": [
    {
     "name": "stdout",
     "output_type": "stream",
     "text": [
      "Enter your sentence here for audio: \n",
      " >As India sees a steady slump in its daily coronavirus count, the Centre has announced opening up the third, or ‘precautionary doses’, to everyone over 18 years. The restriction is that these doses must be the same as the ones administered earlier and there must be at least a nine-month gap following the second dose, implying that Covishield and Covaxin will comprise almost all of the demand. The experience of the past two years from around the world has shown that the third dose has only a little additional benefit over two doses in preventing an infection because of the constantly mutating character of the virus. But, because it helps keep antibody levels boosted, they are useful in protecting against a severe infection. A major aspect of vaccines is the risk of adverse events following vaccination, and previous experience has suggested that certain vaccines may induce a higher risk of blood clots in younger populations. While these instances are extremely limited, they become particularly relevant in India given the size of the population and that a large number of people — young and old — have already been exposed to the virus. Normally, a technical committee of experts, such as the National Technical Advisory Group on Immunisation (NTAGI), weighs the evidence before recommending an approved vaccine for roll-out but this practice has been effectively eschewed in the context of booster doses, as well as earlier decisions to inoculate those below 15.   ALSO READ  Explained | Why India administers ‘precaution dose’ of COVID-19 vaccine, and not ‘booster dose’ The pandemic is far from over and reports from several other countries suggest that no country can consider itself immune from emerging variants. With schools reopened, mask mandates made voluntary and restrictions on international travel lifted in India, it is reasonable for the Centre to anticipate a future wave led by a more transmissible variant — reports of the highly infectious XE variant have already surfaced here — and, therefore, take steps to buffer against it. However, there is no public information on whether studies have been done to establish if administering a different vaccine as a third dose is better at boosting antibodies than repeating a vaccine. This ideally ought to have been a major area of research for the Centre. Another aspect that bears a closer look is progress on vaccines other than Covaxin and Covishield. The Serum Institute of India appears to be gearing up for large volumes of, not Covishield, but Covavax. Covaxin, following the World Health Organization’s recommendation to pause exports pending an upgrade of its production facilities, is also unlikely to see fresh stocks any time soon. Both vaccines in fact will be available at discounted rates in private facilities. Demand is currently lacklustre but were it to spike, will supply be adequate? The Centre needs to be more transparent about the rationale guiding its vaccine policy.\n"
     ]
    }
   ],
   "source": [
    "mysentence = input(\"Enter your sentence here for audio: \\n >\")"
   ]
  },
  {
   "cell_type": "code",
   "execution_count": 14,
   "id": "76d460a2",
   "metadata": {},
   "outputs": [],
   "source": [
    "audio = gTTS(text = mysentence, lang='hi', slow=False)"
   ]
  },
  {
   "cell_type": "code",
   "execution_count": 15,
   "id": "190cfd0e",
   "metadata": {},
   "outputs": [],
   "source": [
    "audio.save('hindi.mp3')"
   ]
  },
  {
   "cell_type": "code",
   "execution_count": 16,
   "id": "187ea99f",
   "metadata": {},
   "outputs": [],
   "source": [
    "# you can find any language by its code"
   ]
  },
  {
   "cell_type": "code",
   "execution_count": null,
   "id": "c7653bb9",
   "metadata": {},
   "outputs": [],
   "source": []
  }
 ],
 "metadata": {
  "kernelspec": {
   "display_name": "Python 3 (ipykernel)",
   "language": "python",
   "name": "python3"
  },
  "language_info": {
   "codemirror_mode": {
    "name": "ipython",
    "version": 3
   },
   "file_extension": ".py",
   "mimetype": "text/x-python",
   "name": "python",
   "nbconvert_exporter": "python",
   "pygments_lexer": "ipython3",
   "version": "3.9.7"
  }
 },
 "nbformat": 4,
 "nbformat_minor": 5
}
